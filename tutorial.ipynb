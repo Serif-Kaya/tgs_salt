{
 "cells": [
  {
   "cell_type": "code",
   "execution_count": null,
   "metadata": {
    "_cell_guid": "b1076dfc-b9ad-4769-8c92-a6c4dae69d19",
    "_uuid": "8f2839f25d086af736a60e9eeb907d3b93b6e0e5"
   },
   "outputs": [],
   "source": [
    "import os\n",
    "print(os.listdir(\"../input\"))\n",
    "\n",
    "# Any results you write to the current directory are saved as output."
   ]
  },
  {
   "cell_type": "markdown",
   "metadata": {
    "_uuid": "aea8d808ddedd900aff77abfd66bdd7f466c3d61"
   },
   "source": [
    "**Crisp Methodology**\n",
    "\n",
    "![](https://www.kdnuggets.com/wp-content/uploads/crisp-dm-4-problems-fig1.png)\n",
    "    Crisp methodology is on the acceptable manners for data mining tasks. As it is belowed in the following figure, it contains three main parts should be passed to deliver a product to business\n",
    "*     Data cleaning\n",
    "        1. Understanding the business and data.\n",
    "        2. Try to comprehent the business and extract the data which is needed\n",
    "        3. Understand the dependencies between attributes. Analyzing the target variables. Handling missing values. Transforming data formats to standard data format.\n",
    "*     Data Modeling\n",
    "        1. Understanding the business and data.\n",
    "        2. Selecting more accurate classfier or regression engine based on the charactristic any of them have.\n",
    "        3. Train a model \n",
    "*     Evaluation and Deployment.\n",
    "        1. Evalute created model using evaluation methods (test-data, cross-validation, etc)\n",
    "        2. Catrefully Evaluate model with real data (i.e AB testing) (As it is shown in crisp diagram, there is a link between business undestanding and evaluation part). \n",
    "        3. Migrate to new model and replace the old one with new version.\n"
   ]
  },
  {
   "cell_type": "markdown",
   "metadata": {
    "_uuid": "679d84d693888c93c63762754e36a58749be5b4d"
   },
   "source": [
    "**imports**\n",
    "*     Importing packages and libraries."
   ]
  },
  {
   "cell_type": "code",
   "execution_count": null,
   "metadata": {
    "_uuid": "a6430eaf18e19cc83ff3bd1a322668fde9f43f2a"
   },
   "outputs": [],
   "source": [
    "import pandas as pd\n",
    "import numpy as np\n",
    "import json\n",
    "import matplotlib.pyplot as plt\n",
    "%matplotlib inline"
   ]
  },
  {
   "cell_type": "markdown",
   "metadata": {
    "_uuid": "86ef2c2d21767682cf351db547c3119a2339bd5e"
   },
   "source": [
    "**Reading Data**\n",
    "\n",
    "Reading data and caughting a glimpse of what data it is."
   ]
  },
  {
   "cell_type": "code",
   "execution_count": null,
   "metadata": {
    "_cell_guid": "79c7e3d0-c299-4dcb-8224-4455121ee9b0",
    "_uuid": "d629ff2d2480ee46fbb7e2d37f6b5fab8052498a"
   },
   "outputs": [],
   "source": [
    "train_data = pd.read_csv(\"../input/train.csv\")\n",
    "train_data.head()"
   ]
  },
  {
   "cell_type": "code",
   "execution_count": null,
   "metadata": {
    "_uuid": "7d6396d4c5365e58dc6a10ec748cd70fce4c7c2c"
   },
   "outputs": [],
   "source": [
    "train_data.describe()"
   ]
  },
  {
   "cell_type": "code",
   "execution_count": null,
   "metadata": {
    "_uuid": "15bd454caf0148863c83b5762658f4ee2c6e7220"
   },
   "outputs": [],
   "source": [
    "list(train_data.columns.values)"
   ]
  },
  {
   "cell_type": "markdown",
   "metadata": {
    "_uuid": "2e880ed5017f078fda5067e0b17c53c980d4fea1"
   },
   "source": [
    "**Features descriptions**:\n",
    "\n",
    "Returning back to Data description for understanding features.\n",
    "\n",
    "*     channelGrouping - The channel via which the user came to the Store.\n",
    "*     date - The date on which the user visited the Store.\n",
    "*     device - The specifications for the device used to access the Store.\n",
    "*     fullVisitorId- A unique identifier for each user of the Google Merchandise Store.\n",
    "*     geoNetwork - This section contains information about the geography of the user.\n",
    "*     sessionId - A unique identifier for this visit to the store.\n",
    "*     socialEngagementType - Engagement type, either \"Socially Engaged\" or \"Not Socially Engaged\".\n",
    "*     totals - This section contains aggregate values across the session.\n",
    "*     trafficSource - This section contains information about the Traffic Source from which the session originated.\n",
    "*     visitId - An identifier for this session. This is part of the value usually stored as the _utmb cookie. This is only unique to the user. For a completely unique ID, you should use a combination of fullVisitorId and visitId.\n",
    "*     visitNumber - The session number for this user. If this is the first session, then this is set to 1.\n",
    "*     visitStartTime - The timestamp (expressed as POSIX time).\n"
   ]
  },
  {
   "cell_type": "markdown",
   "metadata": {
    "_uuid": "dcb51011a920d5741ce007c15fe6f9cc122ab234"
   },
   "source": [
    "**channelGrouping feature**"
   ]
  },
  {
   "cell_type": "code",
   "execution_count": null,
   "metadata": {
    "_uuid": "24d6d732b0e816e2a890c817dd5543ab3e5e561c"
   },
   "outputs": [],
   "source": [
    "train_data.channelGrouping.value_counts().plot(kind=\"bar\",title=\"channelGrouping distro\",figsize=(8,8),rot=25,colormap='Paired')"
   ]
  },
  {
   "cell_type": "markdown",
   "metadata": {
    "_uuid": "98d005134d4677798e3c1431a6d95e8ac55ebe3a"
   },
   "source": [
    "**date and visitStartTime**\n",
    "\n",
    "There are two varialbe related to time and can be used in time dependent analyzes specially TimeSeries."
   ]
  },
  {
   "cell_type": "code",
   "execution_count": null,
   "metadata": {
    "_uuid": "4a21ac9e2c038995911eb25f643e157878ae9c12"
   },
   "outputs": [],
   "source": [
    "\"date :{}, visitStartTime:{}\".format(train_data.head(1).date[0],train_data.head(1).visitStartTime[0])"
   ]
  },
  {
   "cell_type": "markdown",
   "metadata": {
    "_uuid": "9426c06830d5872f44195d2f1c4acbafea4f6649"
   },
   "source": [
    "date is stored in String and should be converted to pandas datetime format.\n",
    "visitStartTime is stored in epoch unix format and should be converted to pandas datetime format.\n",
    "doing the correspondence transforms and storing on the same attribute."
   ]
  },
  {
   "cell_type": "code",
   "execution_count": null,
   "metadata": {
    "_uuid": "3488ada0cedb4a6df1b205ecbc0ebe38ee2e3d40"
   },
   "outputs": [],
   "source": [
    "train_data[\"date\"] = pd.to_datetime(train_data[\"date\"],format=\"%Y%m%d\")\n",
    "train_data[\"visitStartTime\"] = pd.to_datetime(train_data[\"visitStartTime\"],unit='s')"
   ]
  },
  {
   "cell_type": "markdown",
   "metadata": {
    "_uuid": "02792ece205e46a3e291572c72635b6d65c75136"
   },
   "source": [
    "Checking the transformed features."
   ]
  },
  {
   "cell_type": "code",
   "execution_count": null,
   "metadata": {
    "_uuid": "fa57bd9f58d7b27873d7bee7913cc18ebc0e94d3"
   },
   "outputs": [],
   "source": [
    "train_data.head(1)[[\"date\",\"visitStartTime\"]]"
   ]
  },
  {
   "cell_type": "markdown",
   "metadata": {
    "_uuid": "d2f7bc22259657a159827c45ca65972c27c55ca2"
   },
   "source": [
    "**device**\n",
    "\n",
    "device is stored in json format. There is a need to extract its fields and analyze them. Using json library to deserializing json values."
   ]
  },
  {
   "cell_type": "code",
   "execution_count": null,
   "metadata": {
    "_uuid": "f0b75ca11dca15238bc3e6e6ec36e79d3d8ae90a"
   },
   "outputs": [],
   "source": [
    "list_of_devices = train_data.device.apply(json.loads).tolist()\n",
    "keys = []\n",
    "for devices_iter in list_of_devices:\n",
    "    for list_element in list(devices_iter.keys()):\n",
    "        if list_element not in keys:\n",
    "            keys.append(list_element)"
   ]
  },
  {
   "cell_type": "markdown",
   "metadata": {
    "_uuid": "39d240415ddc55a1ba7744fb48662f1411828c46"
   },
   "source": [
    "keys existed in device attribute are listed below.\n",
    "Now we should ignore the features which are not usefull in rest of the process. If feature is misrelated, or it contains lot of \"NaN\" values it should be discarded.\n",
    "We select the [\"browser\",\"operatingSystem\",\"deviceCategory\",\"isMobile\"] for doing the analyzing. The rest of the device features are ignored and will be removed."
   ]
  },
  {
   "cell_type": "code",
   "execution_count": null,
   "metadata": {
    "_uuid": "5cd55978b512a3e1bc986a998d80a3b033c315ed"
   },
   "outputs": [],
   "source": [
    "\"keys existed in device attribute are:{}\".format(keys)"
   ]
  },
  {
   "cell_type": "code",
   "execution_count": null,
   "metadata": {
    "_uuid": "cadd6e2ecea749307f6c52056406ef9b6acbc1e2"
   },
   "outputs": [],
   "source": [
    "tmp_device_df = pd.DataFrame(train_data.device.apply(json.loads).tolist())[[\"browser\",\"operatingSystem\",\"deviceCategory\",\"isMobile\"]]"
   ]
  },
  {
   "cell_type": "code",
   "execution_count": null,
   "metadata": {
    "_uuid": "499f0847262e10fc07829916236b456364c1c472"
   },
   "outputs": [],
   "source": [
    "tmp_device_df.head()"
   ]
  },
  {
   "cell_type": "code",
   "execution_count": null,
   "metadata": {
    "_uuid": "b12bb719c32f9a7e23ab0440514149832a33a805"
   },
   "outputs": [],
   "source": [
    "tmp_device_df.describe()"
   ]
  },
  {
   "cell_type": "code",
   "execution_count": null,
   "metadata": {
    "_uuid": "1a9f91b20b7d28fd8f7efbdd0ea3ae3e2d29aea7"
   },
   "outputs": [],
   "source": [
    "fig, axes = plt.subplots(2,2,figsize=(15,15))\n",
    "tmp_device_df[\"isMobile\"].value_counts().plot(kind=\"bar\",ax=axes[0][0],rot=25,legend=\"isMobile\",color='tan')\n",
    "tmp_device_df[\"browser\"].value_counts().head(10).plot(kind=\"bar\",ax=axes[0][1],rot=40,legend=\"browser\",color='teal')\n",
    "tmp_device_df[\"deviceCategory\"].value_counts().head(10).plot(kind=\"bar\",ax=axes[1][0],rot=25,legend=\"deviceCategory\",color='lime')\n",
    "tmp_device_df[\"operatingSystem\"].value_counts().head(10).plot(kind=\"bar\",ax=axes[1][1],rot=80,legend=\"operatingSystem\",color='c')"
   ]
  },
  {
   "cell_type": "markdown",
   "metadata": {
    "_uuid": "8fcdcdddde4e9b6c4818ea9cb46331a8f1890a70"
   },
   "source": [
    "**geoNetwork**\n",
    "\n",
    "It is json and the similar manner to previous feature (device) should be done.\n"
   ]
  },
  {
   "cell_type": "code",
   "execution_count": null,
   "metadata": {
    "_uuid": "9d2c8de2826719ba58ca3785471aab39af56b371"
   },
   "outputs": [],
   "source": [
    "tmp_geo_df = pd.DataFrame(train_data.geoNetwork.apply(json.loads).tolist())[[\"continent\",\"subContinent\",\"country\",\"city\"]]"
   ]
  },
  {
   "cell_type": "code",
   "execution_count": null,
   "metadata": {
    "_uuid": "3e3e0826f8a489bb9642968a12f0ac7875a8c7b7"
   },
   "outputs": [],
   "source": [
    "tmp_geo_df.head()"
   ]
  },
  {
   "cell_type": "code",
   "execution_count": null,
   "metadata": {
    "_uuid": "1a750933b4507d43e92a7ce5491e5216caabfe85"
   },
   "outputs": [],
   "source": [
    "tmp_geo_df.describe()"
   ]
  },
  {
   "cell_type": "markdown",
   "metadata": {
    "_uuid": "dba43137c32caff107e861abb03427dd5417b5d3"
   },
   "source": [
    "analysing the distribution of users in 5 continents."
   ]
  },
  {
   "cell_type": "code",
   "execution_count": null,
   "metadata": {
    "_uuid": "c8b86fc6149849a1f78b7102edfcbb9e16cb341b"
   },
   "outputs": [],
   "source": [
    "fig, axes = plt.subplots(3,2, figsize=(15,15))\n",
    "tmp_geo_df[\"continent\"].value_counts().plot(kind=\"bar\",ax=axes[0][0],title=\"Global Distributions\",rot=0,color=\"c\")\n",
    "tmp_geo_df[tmp_geo_df[\"continent\"] == \"Americas\"][\"subContinent\"].value_counts().plot(kind=\"bar\",ax=axes[1][0], title=\"America Distro\",rot=0,color=\"tan\")\n",
    "tmp_geo_df[tmp_geo_df[\"continent\"] == \"Asia\"][\"subContinent\"].value_counts().plot(kind=\"bar\",ax=axes[0][1], title=\"Asia Distro\",rot=0,color=\"r\")\n",
    "tmp_geo_df[tmp_geo_df[\"continent\"] == \"Europe\"][\"subContinent\"].value_counts().plot(kind=\"bar\",ax=axes[1][1],  title=\"Europe Distro\",rot=0,color=\"lime\")\n",
    "tmp_geo_df[tmp_geo_df[\"continent\"] == \"Oceania\"][\"subContinent\"].value_counts().plot(kind=\"bar\",ax = axes[2][0], title=\"Oceania Distro\",rot=0,color=\"teal\")\n",
    "tmp_geo_df[tmp_geo_df[\"continent\"] == \"Africa\"][\"subContinent\"].value_counts().plot(kind=\"bar\" , ax=axes[2][1], title=\"Africa Distro\",rot=0,color=\"silver\")"
   ]
  },
  {
   "cell_type": "markdown",
   "metadata": {
    "_uuid": "337926fa6261abcbd7fa6fd0804f300c81316a46"
   },
   "source": [
    "**socialEngagementType**\n",
    "\n",
    "Describing this feature confirms its uniqueness. It should be dropped. Because its entropy is 0. "
   ]
  },
  {
   "cell_type": "code",
   "execution_count": null,
   "metadata": {
    "_uuid": "7b3911b4fee714c5f1d2c5dc2b033f7c7c7d1e01"
   },
   "outputs": [],
   "source": [
    "train_data[\"socialEngagementType\"].describe()"
   ]
  },
  {
   "cell_type": "markdown",
   "metadata": {
    "_uuid": "24c3161564ec95f36881869b0e2f4fbf6d834b86"
   },
   "source": [
    "**totals**\n"
   ]
  },
  {
   "cell_type": "code",
   "execution_count": null,
   "metadata": {
    "_uuid": "ed05f7a083c3863e88b9d820bc10940765de245d"
   },
   "outputs": [],
   "source": [
    "train_data.head()\n",
    "train_data[\"revenue\"] = pd.DataFrame(train_data.totals.apply(json.loads).tolist())[[\"transactionRevenue\"]]\n"
   ]
  },
  {
   "cell_type": "markdown",
   "metadata": {
    "_uuid": "0d6a1b3a04a6af113c0bd6ae5f75ed8ce0f6b0b3"
   },
   "source": [
    "Extracting all the revenues can bring us an overview about the total revenue."
   ]
  },
  {
   "cell_type": "code",
   "execution_count": null,
   "metadata": {
    "_uuid": "11f9072ff0e17577979bbfee4dea7a6139bef5c8"
   },
   "outputs": [],
   "source": [
    "revenue_datetime_df = train_data[[\"revenue\" , \"date\"]].dropna()\n",
    "revenue_datetime_df[\"revenue\"] = revenue_datetime_df.revenue.astype(np.int64)\n",
    "revenue_datetime_df.head()"
   ]
  },
  {
   "cell_type": "markdown",
   "metadata": {
    "_uuid": "95155bf9d934bf271a424c8a98255fc9a9194363"
   },
   "source": [
    "Aggregation on days and plotting daily revenue."
   ]
  },
  {
   "cell_type": "code",
   "execution_count": null,
   "metadata": {
    "_uuid": "3ddbf6c05926782adbc4b6d2424e88df2c0a728a"
   },
   "outputs": [],
   "source": [
    "daily_revenue_df = revenue_datetime_df.groupby(by=[\"date\"],axis = 0 ).sum()\n",
    "import matplotlib.pyplot as plt\n",
    "fig, axes = plt.subplots(figsize=(20,10))\n",
    "axes.set_title(\"Daily Revenue\")\n",
    "axes.set_ylabel(\"Revenue\")\n",
    "axes.set_xlabel(\"date\")\n",
    "axes.plot(daily_revenue_df[\"revenue\"])\n"
   ]
  },
  {
   "cell_type": "code",
   "execution_count": null,
   "metadata": {
    "_uuid": "a8e89d239eb5b6d510ecc8e9f17215c5bc527b16"
   },
   "outputs": [],
   "source": [
    "fig, axes = plt.subplots(nrows=1, ncols=1, figsize=(9, 9))\n",
    "axes.set_title(\"Daily revenue Violin\")\n",
    "axes.set_ylabel(\"revenue\")\n",
    "axes.violinplot(list(daily_revenue_df[\"revenue\"].values),showmeans=False,showmedians=True)"
   ]
  },
  {
   "cell_type": "markdown",
   "metadata": {
    "_uuid": "7a1a7ed010b0ae312a18612e20fc3a4a0e78f3a8"
   },
   "source": [
    "**visitNumber**\n",
    "\n",
    "Number of visits have profound potential to be an important factor in regression progress. "
   ]
  },
  {
   "cell_type": "code",
   "execution_count": null,
   "metadata": {
    "_uuid": "280d50807c7221484f954f4baef407d583d55795"
   },
   "outputs": [],
   "source": [
    "visit_datetime_df = train_data[[\"date\",\"visitNumber\"]]\n",
    "visit_datetime_df[\"visitNumber\"] = visit_datetime_df.visitNumber.astype(np.int64)"
   ]
  },
  {
   "cell_type": "code",
   "execution_count": null,
   "metadata": {
    "_uuid": "94394db7363f82dc3e8d4b63ce04b451cfd858fa"
   },
   "outputs": [],
   "source": [
    "daily_visit_df = visit_datetime_df.groupby(by=[\"date\"], axis = 0).sum()\n",
    "\n",
    "fig, axes = plt.subplots(1,1,figsize=(20,10))\n",
    "axes.set_ylabel(\"# of visits\")\n",
    "axes.set_xlabel(\"date\")\n",
    "axes.set_title(\"Daily Visits\")\n",
    "axes.plot(daily_visit_df[\"visitNumber\"])"
   ]
  },
  {
   "cell_type": "code",
   "execution_count": null,
   "metadata": {
    "_uuid": "a19b0c54518e1b4cf2a9d40d721567c1764c6f90"
   },
   "outputs": [],
   "source": [
    "fig, axes = plt.subplots(nrows=1, ncols=1, figsize=(9, 9))\n",
    "axes.set_title(\"Daily visits Violin\")\n",
    "axes.set_ylabel(\"# of visitors\")\n",
    "axes.violinplot(list(daily_visit_df[\"visitNumber\"].values),showmeans=False,showmedians=True)"
   ]
  },
  {
   "cell_type": "markdown",
   "metadata": {
    "_uuid": "bb23c63389e45b1a1aaba846ee8b892425d37db7"
   },
   "source": [
    "Now, lets check another side of 'visitNumber' feature. As it is mentioned in data description, visitNumber is the number of sessions for each user. It can also be the factor of users interest. lets 'describe' and  'visualize' them.\n",
    "using 'collections' package, we can count repetition of each element."
   ]
  },
  {
   "cell_type": "code",
   "execution_count": null,
   "metadata": {
    "_uuid": "0181ed5f1fee9854dee68331646ac2d159bfb9f4"
   },
   "outputs": [],
   "source": [
    "train_data.visitNumber.describe()"
   ]
  },
  {
   "cell_type": "markdown",
   "metadata": {
    "_uuid": "789a4341cacf0338f8d68d9b847e94d7a8c8887b"
   },
   "source": [
    "The 75% of sessions have visitNumber lower than one time. You can get more information about percentiles by calling np.percentile method."
   ]
  },
  {
   "cell_type": "code",
   "execution_count": null,
   "metadata": {
    "_uuid": "88e2b52a6055587655b99a59f97b24897015f59c"
   },
   "outputs": [],
   "source": [
    "\"90 percent of sessions have visitNumber lower than {} times.\".format(np.percentile(list(train_data.visitNumber),90))"
   ]
  },
  {
   "cell_type": "markdown",
   "metadata": {
    "_uuid": "2aba10a10c0670314a0c4d5286f66b3afdc6a08d"
   },
   "source": [
    "Lets find most_common and least_common visitNumbers for being familiar with collections module and its powrefull tools ;-) "
   ]
  },
  {
   "cell_type": "code",
   "execution_count": null,
   "metadata": {
    "_uuid": "53cbb935fed4dd082b7de40d0a6b93029dd82dc3"
   },
   "outputs": [],
   "source": [
    "import collections\n",
    "\n",
    "tmp_least_10_visitNumbers_list = collections.Counter(list(train_data.visitNumber)).most_common()[:-10-1:-1]\n",
    "tmp_most_10_visitNumbers_list = collections.Counter(list(train_data.visitNumber)).most_common(10)\n",
    "least_visitNumbers = []\n",
    "most_visitNumbers = []\n",
    "for i in tmp_least_10_visitNumbers_list:\n",
    "    least_visitNumbers.append(i[0])\n",
    "for i in tmp_most_10_visitNumbers_list:\n",
    "    most_visitNumbers.append(i[0])\n",
    "\"10 most_common visitNumbers are {} times and 10 least_common visitNumbers are {} times\".format(most_visitNumbers,least_visitNumbers)"
   ]
  },
  {
   "cell_type": "markdown",
   "metadata": {
    "_uuid": "a69c4b314f21f0913fdf9640704802652a6f59e9"
   },
   "source": [
    " It is clear that the dispersion of the 'visitNumber' per session is huge. for this sort of features, we can use Log and map the feature space to\n",
    "new lower space. As a result of this mapping, visualization the data will be easier."
   ]
  },
  {
   "cell_type": "code",
   "execution_count": null,
   "metadata": {
    "_uuid": "9ff582a30ec1ec665fde671aed193095b6daf8e3"
   },
   "outputs": [],
   "source": [
    "fig,ax = plt.subplots(1,1,figsize=(9,5))\n",
    "ax.set_title(\"Histogram of log(visitNumbers) \\n don't forget it is per session\")\n",
    "ax.set_ylabel(\"Repetition\")\n",
    "ax.set_xlabel(\"Log(visitNumber)\")\n",
    "ax.grid(color='b', linestyle='-', linewidth=0.1)\n",
    "ax.hist(np.log(train_data.visitNumber))"
   ]
  },
  {
   "cell_type": "markdown",
   "metadata": {
    "_uuid": "a7aa14f5d0c7bcf8c602144bbe29821a228e6268"
   },
   "source": [
    "**trafficSource**\n",
    "\n",
    "What is the most conventional manner for visitor who visit to the website and do their shopping ? trafficSource attribute can resolve this qurestion.\n",
    "Like a previous Json elements existed in the dataset, this attribute is also Json file. so, we use the similar way to deserialize it. We have select keyword, source and the medium as a features which can bring more useful infromation.\n"
   ]
  },
  {
   "cell_type": "code",
   "execution_count": null,
   "metadata": {
    "_uuid": "027a738e3c4f5a3d4066762bc66d287302470039"
   },
   "outputs": [],
   "source": [
    "traffic_source_df = pd.DataFrame(train_data.trafficSource.apply(json.loads).tolist())[[\"keyword\",\"medium\" , \"source\"]]"
   ]
  },
  {
   "cell_type": "code",
   "execution_count": null,
   "metadata": {
    "_uuid": "48e7f72f09c8ae71c3682fd8e7b47e53d3775b7a"
   },
   "outputs": [],
   "source": [
    "fig,axes = plt.subplots(1,2,figsize=(15,10))\n",
    "traffic_source_df[\"medium\"].value_counts().plot(kind=\"bar\",ax = axes[0],title=\"Medium\",rot=0,color=\"tan\")\n",
    "traffic_source_df[\"source\"].value_counts().head(10).plot(kind=\"bar\",ax=axes[1],title=\"source\",rot=75,color=\"teal\")"
   ]
  },
  {
   "cell_type": "markdown",
   "metadata": {
    "_uuid": "df8a4d663158bcc3a00568a41c4ec3fc5fefb7c7"
   },
   "source": [
    "As it is completely obvious in source diagram, google is the most repetitive source. It would be interesting if we replace all google subdomains with exact 'google' and do the same analyze again. let's do it."
   ]
  },
  {
   "cell_type": "code",
   "execution_count": null,
   "metadata": {
    "_uuid": "c1e14eb231912f233cadb2bb0ba48e0ce64b4366"
   },
   "outputs": [],
   "source": [
    "traffic_source_df.loc[traffic_source_df[\"source\"].str.contains(\"google\") ,\"source\"] = \"google\"\n",
    "fig,axes = plt.subplots(1,1,figsize=(8,8))\n",
    "traffic_source_df[\"source\"].value_counts().head(15).plot(kind=\"bar\",ax=axes,title=\"source\",rot=75,color=\"teal\")"
   ]
  },
  {
   "cell_type": "markdown",
   "metadata": {
    "_uuid": "32f46b9faea7670aafecf55b922bb2df0ef8d0c0"
   },
   "source": [
    "Google dependent redirects are more than twice the youtube sources. Combination of this feature with revenue and visits may have important result. We will do it in next step (when we are analyzing feature correlations).\n",
    "Now let's move on keywords feature.\n",
    "A glance to keyword featre represnets lot of missing values '(not provided)'. Drawing a bar chart for both of them...\n"
   ]
  },
  {
   "cell_type": "code",
   "execution_count": null,
   "metadata": {
    "_uuid": "4f0703fa5288ee3e0570f30aefb2739761ce66bd",
    "collapsed": true
   },
   "outputs": [],
   "source": [
    "fig,axes = plt.subplots(1,2,figsize=(15,10))\n",
    "traffic_source_df[\"keyword\"].value_counts().head(10).plot(kind=\"bar\",ax=axes[0], title=\"keywords (total)\",color=\"orange\")\n",
    "traffic_source_df[traffic_source_df[\"keyword\"] != \"(not provided)\"][\"keyword\"].value_counts().head(15).plot(kind=\"bar\",ax=axes[1],title=\"keywords (dropping NA)\",color=\"c\")"
   ]
  },
  {
   "cell_type": "markdown",
   "metadata": {
    "_uuid": "d47e98109052c593a71437ab8c28d4cfcd674569"
   },
   "source": [
    "**fullVisitorId**\n",
    "\n",
    "Now, lets see how many of users are repetitive ?! This feature can represent important information answering this question ? (Is more repeation proportional to more buy ?! ) \n",
    "The response will be discussed in next section (Where we are analyzing compound features) but now, lets move on calculation of repetitive visits percentiles."
   ]
  },
  {
   "cell_type": "code",
   "execution_count": null,
   "metadata": {
    "_uuid": "25a3dc6ee29147c2af2037e3b167f84bcf724183"
   },
   "outputs": [],
   "source": [
    "repetitive_users = list(np.sort(list(collections.Counter(list(train_data[\"fullVisitorId\"])).values())))\n",
    "\"25% percentile: {}, 50% percentile: {}, 75% percentile: {}, 88% percentile: {}, 88% percentile: {}\".format(\n",
    "np.percentile(repetitive_users,q=25),np.percentile(repetitive_users,q=50),\n",
    "np.percentile(repetitive_users,q=75),np.percentile(repetitive_users,q=88), np.percentile(repetitive_users,q=89))"
   ]
  },
  {
   "cell_type": "markdown",
   "metadata": {
    "_uuid": "338ab31e3cc9cf9301225f999020888394025edb"
   },
   "source": [
    "As it is shown, only 12 percent of users are repetitive and visited the website more than once. \n",
    "(Search about churn rate and conversion rate if you want to know why we have analyzed this feature ;-) )\n"
   ]
  },
  {
   "cell_type": "markdown",
   "metadata": {
    "_uuid": "89a7f318e36ea214cb77777bb09e3ceaf3d6a591"
   },
   "source": []
  }
 ],
 "metadata": {
  "kernelspec": {
   "display_name": "Python 3",
   "language": "python",
   "name": "python3"
  },
  "language_info": {
   "codemirror_mode": {
    "name": "ipython",
    "version": 3
   },
   "file_extension": ".py",
   "mimetype": "text/x-python",
   "name": "python",
   "nbconvert_exporter": "python",
   "pygments_lexer": "ipython3",
   "version": "3.6.5"
  }
 },
 "nbformat": 4,
 "nbformat_minor": 1
}
